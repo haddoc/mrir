{
 "cells": [
  {
   "cell_type": "code",
   "execution_count": 1,
   "metadata": {
    "collapsed": true
   },
   "outputs": [],
   "source": [
    "import sys\n",
    "import os\n",
    "sys.path.append('../')\n",
    "import numpy as np\n",
    "import scipy.signal as sps\n",
    "from source.reader import read_raw\n",
    "from source.interference_reject import InterferenceReject\n",
    "import matplotlib\n",
    "matplotlib.rcParams['font.family'] = \"Times New Roman\"\n",
    "matplotlib.rcParams['font.size'] = 18\n",
    "import matplotlib.pyplot as plt"
   ]
  },
  {
   "cell_type": "markdown",
   "metadata": {},
   "source": [
    "## Noise correlation (interaction matrix)"
   ]
  },
  {
   "cell_type": "code",
   "execution_count": 2,
   "metadata": {
    "collapsed": false,
    "scrolled": false
   },
   "outputs": [
    {
     "name": "stdout",
     "output_type": "stream",
     "text": [
      "Interaction coupling K:\n",
      "Primary, Min: 0.015324513427913189\n",
      "Primary, Max: 0.3079428429152091\n",
      "Reference, Min: 0.0014646101044490933\n",
      "Reference, Max: 0.07521483276615842\n",
      "Cross, Min: 0.0001556917413836345\n",
      "Cross, Max: 0.011768911666999213\n"
     ]
    },
    {
     "data": {
      "image/png": "[encoded data removed]",
      "text/plain": [
       "<Figure size 432x432 with 2 Axes>"
      ]
     },
     "metadata": {
      "needs_background": "light"
     },
     "output_type": "display_data"
    }
   ],
   "source": [
    "# Data import\n",
    "file_name = \"../../data_interference/shielded_room/baseline.h5\"\n",
    "data, index, metadata = read_raw(file_name)\n",
    "num_channels_all = metadata['console']['adc']['number_channels']\n",
    "num_channels_signal = metadata['rf']['receive']['num_signal_channels']\n",
    "matrix_size = metadata['sequence']['encoding']['matrix_size']\n",
    "acq_bandwidth = metadata['sequence']['readout']['readouts'][0]['bandwidth']\n",
    "\n",
    "# Derive cross corelation\n",
    "data_prescan = data['noise']\n",
    "data_col = np.reshape(data_prescan, (data_prescan.shape[0],-1))\n",
    "norm = np.std(data_col, axis=1)\n",
    "data_col /= norm[:, None]\n",
    "mat_cor = np.dot(np.conj(data_col), data_col.T)\n",
    "mat_cor = np.dot(np.abs(np.diag(1/np.diag(mat_cor))), mat_cor)\n",
    "\n",
    "# Print out interaction terms\n",
    "mat_cross = mat_cor - np.eye(num_channels_all)\n",
    "print(\"Interaction coupling K:\")\n",
    "print(\"Primary, Min: {}\".format(np.min(np.abs(mat_cor[:num_channels_signal, :num_channels_signal]))))\n",
    "print(\"Primary, Max: {}\".format(np.max(np.abs(mat_cross[:num_channels_signal, :num_channels_signal]))))\n",
    "print(\"Reference, Min: {}\".format(np.min(np.abs(mat_cor[num_channels_signal:, num_channels_signal:]))))\n",
    "print(\"Reference, Max: {}\".format(np.max(np.abs(mat_cross[num_channels_signal:, num_channels_signal:]))))\n",
    "print(\"Cross, Min: {}\".format(np.min(np.abs(mat_cor[:num_channels_signal, num_channels_signal:]))))\n",
    "print(\"Cross, Max: {}\".format(np.max(np.abs(mat_cross[:num_channels_signal, num_channels_signal:]))))\n",
    "\n",
    "# Figure\n",
    "x_labels = ['P1','P2','P3','P4','P5','P6','P7','P8','R1','R2','R3','R4','R5','R6','R7','R8']\n",
    "fig, ax = plt.subplots(ncols=1, nrows=1, figsize=(6,6))\n",
    "im = ax.imshow(20*np.log10(np.abs(mat_cor)))#, vmin=-40, vmax=0)\n",
    "ax.xaxis.tick_top()\n",
    "ax.set_xticks(np.arange(16))\n",
    "ax.set_xticklabels(x_labels)\n",
    "ax.set_yticks(np.arange(16))\n",
    "ax.set_yticklabels(x_labels)\n",
    "cbar = fig.colorbar(im)\n",
    "cbar.set_label('Coupling (dB)')\n",
    "\n",
    "# Save figure\n",
    "dir_data, file_data = os.path.split(file_name)\n",
    "dir_fig = os.path.join(dir_data, \"figures\")\n",
    "if not os.path.isdir(dir_fig):\n",
    "    os.mkdir(dir_fig)\n",
    "file_fig = os.path.splitext(file_data)[0] + \".png\"\n",
    "fig.savefig(os.path.join(dir_fig, file_fig))\n"
   ]
  },
  {
   "cell_type": "markdown",
   "metadata": {},
   "source": [
    "## Shield attenuation, X-axis"
   ]
  },
  {
   "cell_type": "code",
   "execution_count": 3,
   "metadata": {
    "collapsed": false
   },
   "outputs": [
    {
     "data": {
      "image/png": "[encoded data removed]",
      "text/plain": [
       "<Figure size 432x288 with 1 Axes>"
      ]
     },
     "metadata": {
      "needs_background": "light"
     },
     "output_type": "display_data"
    },
    {
     "name": "stdout",
     "output_type": "stream",
     "text": [
      "SNR primary coils: min = 8.9, max = 60.8\n",
      "SNR reference coils: min = 22.9, max = 143.2\n",
      "Ratio reference to primary: 2.4 (7.4 dB)\n"
     ]
    }
   ],
   "source": [
    "# Import data\n",
    "file_name = \"../../data_interference/shielded_room/sine_x_closed.h5\"\n",
    "data, index, metadata = read_raw(file_name)\n",
    "num_channels_all = metadata['console']['adc']['number_channels']\n",
    "num_channels_signal = metadata['rf']['receive']['num_signal_channels']\n",
    "matrix_size = metadata['sequence']['encoding']['matrix_size']\n",
    "acq_bandwidth = metadata['sequence']['readout']['readouts'][0]['bandwidth']\n",
    "\n",
    "spec_scan = np.squeeze(np.fft.fftshift(np.fft.fft(data['scan'], axis=1), axes=1))\n",
    "freq = np.linspace(-0.5, 0.5, spec_scan.shape[1]) * acq_bandwidth\n",
    "plt.figure()\n",
    "plt.plot(freq, np.squeeze(np.abs(spec_scan)).T)\n",
    "plt.show()\n",
    "\n",
    "max_sig = np.max(np.abs(spec_scan), axis=1)\n",
    "sel_baseline = np.abs(freq) > 1.5e4\n",
    "noise_std = np.std(spec_scan[:,sel_baseline], axis=1)\n",
    "snr = max_sig / noise_std\n",
    "print(\"SNR primary coils: min = {0:.1f}, max = {1:.1f}\".format(np.min(snr[:8]), np.max(snr[:8])))\n",
    "print(\"SNR reference coils: min = {0:.1f}, max = {1:.1f}\".format(np.min(snr[8:]), np.max(snr[8:])))\n",
    "r_div_p = np.max(snr[8:]) / np.max(snr[:8])\n",
    "print(\"Ratio reference to primary: {0:.1f} ({1:.1f} dB)\".format(r_div_p, 20*np.log10(r_div_p)))"
   ]
  },
  {
   "cell_type": "markdown",
   "metadata": {},
   "source": [
    "## Shield attenuation, Y-axis"
   ]
  },
  {
   "cell_type": "code",
   "execution_count": 4,
   "metadata": {
    "collapsed": false
   },
   "outputs": [
    {
     "data": {
      "image/png": "[encoded data removed]",
      "text/plain": [
       "<Figure size 432x288 with 1 Axes>"
      ]
     },
     "metadata": {
      "needs_background": "light"
     },
     "output_type": "display_data"
    },
    {
     "name": "stdout",
     "output_type": "stream",
     "text": [
      "SNR primary coils: min = 6.6, max = 420.9\n",
      "SNR reference coils: min = 27.9, max = 597.1\n",
      "Ratio reference to primary: 1.4 (3.0 dB)\n"
     ]
    }
   ],
   "source": [
    "# Import data\n",
    "file_name = \"../../data_interference/shielded_room/sine_y_closed.h5\"\n",
    "data, index, metadata = read_raw(file_name)\n",
    "num_channels_all = metadata['console']['adc']['number_channels']\n",
    "num_channels_signal = metadata['rf']['receive']['num_signal_channels']\n",
    "matrix_size = metadata['sequence']['encoding']['matrix_size']\n",
    "acq_bandwidth = metadata['sequence']['readout']['readouts'][0]['bandwidth']\n",
    "\n",
    "spec_scan = np.squeeze(np.fft.fftshift(np.fft.fft(data['scan'], axis=1), axes=1))\n",
    "freq = np.linspace(-0.5, 0.5, spec_scan.shape[1]) * acq_bandwidth\n",
    "plt.figure()\n",
    "plt.plot(freq, np.squeeze(np.abs(spec_scan)).T)\n",
    "plt.show()\n",
    "\n",
    "max_sig = np.max(np.abs(spec_scan), axis=1)\n",
    "sel_baseline = np.abs(freq) > 1.5e4\n",
    "noise_std = np.std(spec_scan[:,sel_baseline], axis=1)\n",
    "snr = max_sig / noise_std\n",
    "print(\"SNR primary coils: min = {0:.1f}, max = {1:.1f}\".format(np.min(snr[:8]), np.max(snr[:8])))\n",
    "print(\"SNR reference coils: min = {0:.1f}, max = {1:.1f}\".format(np.min(snr[8:]), np.max(snr[8:])))\n",
    "r_div_p = np.max(snr[8:]) / np.max(snr[:8])\n",
    "print(\"Ratio reference to primary: {0:.1f} ({1:.1f} dB)\".format(r_div_p, 20*np.log10(r_div_p)))"
   ]
  }
 ],
 "metadata": {
  "kernelspec": {
   "display_name": "Python [conda env:mrir]",
   "language": "python",
   "name": "conda-env-mrir-py"
  },
  "language_info": {
   "codemirror_mode": {
    "name": "ipython",
    "version": 3
   },
   "file_extension": ".py",
   "mimetype": "text/x-python",
   "name": "python",
   "nbconvert_exporter": "python",
   "pygments_lexer": "ipython3",
   "version": "3.8.5"
  }
 },
 "nbformat": 4,
 "nbformat_minor": 2
}
