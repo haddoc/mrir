{
 "cells": [
  {
   "cell_type": "code",
   "execution_count": 1,
   "metadata": {
    "collapsed": false
   },
   "outputs": [],
   "source": [
    "import sys\n",
    "sys.path.append('../')\n",
    "from source.interference_reject import InterferenceReject\n",
    "import numpy as np\n",
    "from source.reader import read_raw\n",
    "from source.gridding import NFFT\n",
    "import matplotlib.pyplot as plt\n",
    "%matplotlib inline"
   ]
  },
  {
   "cell_type": "markdown",
   "metadata": {},
   "source": [
    "## Data import"
   ]
  },
  {
   "cell_type": "code",
   "execution_count": 2,
   "metadata": {
    "collapsed": false
   },
   "outputs": [
    {
     "name": "stdout",
     "output_type": "stream",
     "text": [
      "(3120, 16, 134)\n"
     ]
    }
   ],
   "source": [
    "file_name = \"../data/fse_phantom.h5\"\n",
    "data, index, metadata = read_raw(file_name)\n",
    "# Channel definitions\n",
    "num_channels_all = metadata['console']['adc']['number_channels']\n",
    "num_channels_signal = metadata['rf']['receive']['num_signal_channels']\n",
    "# Encoding\n",
    "matrix_size = metadata['sequence']['encoding']['matrix_size']\n",
    "k_x = index['scan']['encoding_1']\n",
    "k_y = index['scan']['encoding_2']\n",
    "k_2d = np.pi * np.vstack((k_x, k_y)).T\n",
    "print(data['scan'].shape)"
   ]
  },
  {
   "cell_type": "markdown",
   "metadata": {},
   "source": [
    "## Interference rejection"
   ]
  },
  {
   "cell_type": "code",
   "execution_count": 3,
   "metadata": {
    "collapsed": false
   },
   "outputs": [
    {
     "name": "stdout",
     "output_type": "stream",
     "text": [
      "(3120, 8, 134)\n"
     ]
    }
   ],
   "source": [
    "\n",
    "rej_prescan = InterferenceReject(\n",
    "    use_prescan=True,\n",
    "    channels_signal=num_channels_signal,\n",
    "    channels_all=num_channels_all,\n",
    "    num_freq_bins=matrix_size[0],\n",
    ")\n",
    "data_cor = rej_prescan.apply(scan_raw=data['scan'], prescan_raw=data['noise'])\n",
    "print(data_cor.shape)"
   ]
  },
  {
   "cell_type": "markdown",
   "metadata": {
    "collapsed": false
   },
   "source": [
    "## Gridding"
   ]
  },
  {
   "cell_type": "code",
   "execution_count": 4,
   "metadata": {
    "collapsed": false
   },
   "outputs": [],
   "source": [
    "spec_cor = np.fft.fftshift(np.fft.fft(data_cor, axis=-1), axes=-1)\n",
    "spec_scan = np.fft.fftshift(np.fft.fft(data['scan'], axis=-1), axes=-1)\n",
    "encode_op = NFFT(k_coords=k_2d, image_size=matrix_size[1:], n_channels=num_channels_signal)\n",
    "dims_4d = np.concatenate((matrix_size, [num_channels_signal]))\n",
    "img_cor = np.zeros(dims_4d, dtype=np.complex64)\n",
    "img_nocor = np.zeros(dims_4d, dtype=np.complex64)\n",
    "for _f in range(img_cor.shape[-1]):\n",
    "    img_cor[_f, :, :] = encode_op.adjoint(spec_cor[:, :, _f])\n",
    "    img_nocor[_f, :, :] = encode_op.adjoint(spec_scan[:, :8, _f])"
   ]
  },
  {
   "cell_type": "code",
   "execution_count": 5,
   "metadata": {
    "collapsed": false
   },
   "outputs": [
    {
     "name": "stdout",
     "output_type": "stream",
     "text": [
      "(134, 132, 36, 8)\n"
     ]
    },
    {
     "data": {
      "image/png": "[encoded data removed]",
      "text/plain": [
       "<Figure size 1152x576 with 2 Axes>"
      ]
     },
     "metadata": {},
     "output_type": "display_data"
    }
   ],
   "source": [
    "print(img_cor.shape)\n",
    "# Plot data\n",
    "sos_cor = np.sqrt(np.sum(np.abs(img_cor) ** 2, axis=-1))\n",
    "sos_nocor = np.sqrt(np.sum(np.abs(img_nocor) ** 2, axis=-1))\n",
    "\n",
    "max_I = np.max(np.abs(sos_cor))\n",
    "slc = 30\n",
    "plt.figure(figsize=(16, 8))\n",
    "plt.subplot(121)\n",
    "plt.imshow(np.abs(sos_nocor[:, :, slc]), cmap='gray', vmin=0, vmax=max_I)\n",
    "plt.title(\"No correction\")\n",
    "plt.xticks([])\n",
    "plt.yticks([])\n",
    "plt.subplot(122)\n",
    "plt.imshow(np.abs(sos_cor[:, :, slc]), cmap='gray', vmin=0, vmax=max_I)\n",
    "plt.title(\"Prescan correction\")\n",
    "plt.xticks([])\n",
    "plt.yticks([])\n",
    "plt.show()"
   ]
  }
 ],
 "metadata": {
  "kernelspec": {
   "display_name": "Python [conda env:mrir]",
   "language": "python",
   "name": "conda-env-mrir-py"
  },
  "language_info": {
   "codemirror_mode": {
    "name": "ipython",
    "version": 3
   },
   "file_extension": ".py",
   "mimetype": "text/x-python",
   "name": "python",
   "nbconvert_exporter": "python",
   "pygments_lexer": "ipython3",
   "version": "3.8.5"
  }
 },
 "nbformat": 4,
 "nbformat_minor": 2
}
